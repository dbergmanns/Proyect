{
 "cells": [
  {
   "cell_type": "markdown",
   "metadata": {
    "collapsed": true
   },
   "source": [
    "# Immigration and Employment"
   ]
  },
  {
   "cell_type": "code",
   "execution_count": null,
   "metadata": {
    "collapsed": true
   },
   "outputs": [],
   "source": [
    "import pandas as pd\n",
    "import numpy as np\n",
    "from scipy.stats import pearsonr, linregress\n",
    "import matplotlib.pyplot as plt\n",
    "%matplotlib inline\n",
    "import statsmodels.formula.api as smf\n",
    "import sqlite3\n",
    "import seaborn as sns\n",
    "sns.set_style(\"whitegrid\", rc={'axes.linewidth': 2.5})\n",
    "sns.set_context('notebook', font_scale=1.45, rc={\"lines.linewidth\": 3, \"figure.figsize\" : (7, 3)})"
   ]
  },
  {
   "cell_type": "markdown",
   "metadata": {
    "collapsed": true
   },
   "source": [
    "## Cleaning data"
   ]
  },
  {
   "cell_type": "markdown",
   "metadata": {},
   "source": [
    "### Data from Integrated Public Use Microdata Series (IPUMS)"
   ]
  },
  {
   "cell_type": "raw",
   "metadata": {
    "collapsed": true
   },
   "source": [
    "We downloaded data from 2007 to 2016 in five files (each with two years) and selected the following variables: age (AGE), sex (SEX), migration status (MIGRATE1), citizenship (CITIZEN), hispanic status (HISPANIC), state (STATEFIP), county (COUNTYFIPS), and weight of population (PERWT)"
   ]
  },
  {
   "cell_type": "code",
   "execution_count": null,
   "metadata": {
    "collapsed": true
   },
   "outputs": [],
   "source": [
    "files=[\"2007-08\", \"2009-10\", \"2011-12\", \"2013-14\", \"2015-16\"]\n",
    "for filename in files:    \n",
    "    df = pd.read_csv(\"IPUMS_\"+ filename + '.csv', usecols=[\"YEAR\", \"STATEFIP\", \"COUNTYFIPS\", \"PERWT\", \"SEX\", \"AGE\", \"HISPAN\", \"CITIZEN\", \"MIGRATE1\"])\n",
    "    #select persons that are not US citizens and that 1 year ago were living abroad\n",
    "    #select only US states, do not consider Puerto Rico, Alaska, Virgin Islands, Hawaii\n",
    "    #do not consider counties whose code is zero\n",
    "    #do not consider persons that did not respond about their race (HISPAN=9)\n",
    "    df2 = df[(df.CITIZEN == 3) & (df.MIGRATE1 == 4) & (df.HISPAN != 9) & (df.STATEFIP != 2) & (df.STATEFIP != 3)\n",
    "                        & (df.STATEFIP != 7) & (df.STATEFIP != 14) & (df.STATEFIP != 15) & (df.STATEFIP != 43) \n",
    "                        & (df.STATEFIP != 52) & (df.COUNTYFIPS > 0)]\n",
    "    #rename variables so it is easier to calculate proportions\n",
    "    #the code for persons that are hispanic is set to zero\n",
    "    df2[\"HISPAN2\"] = 0\n",
    "    #the code for persons that are not hispanic (0) is set to one\n",
    "    df2.loc[df2[\"HISPAN\"] == 0,  \"HISPAN2\"] = 1\n",
    "    #the code for males is set to zero and the code for females (2) is set to one\n",
    "    df2[\"SEX2\"] = 0\n",
    "    df2.loc[df2[\"SEX\"] == 2,  \"SEX2\"] = 1\n",
    "    #group by county, state, and year\n",
    "    #calculate the mean of age, sex, and hispanic people (proportion), the number of migrants, and the sum of the weights (perwt)\n",
    "    df3 = df2.groupby([\"COUNTYFIPS\", \"STATEFIP\", \"YEAR\"]).agg({'AGE': 'mean', 'SEX2': 'mean', 'HISPAN2': 'mean', 'MIGRATE1': 'count', 'PERWT': 'sum'}).reset_index()\n",
    "    #convert COUNTYFIPS to string\n",
    "    df3.COUNTYFIPS = df3.COUNTYFIPS.astype(str)\n",
    "    #convert STATEFIP to string\n",
    "    df3.STATEFIP = df3.STATEFIP.astype(str)\n",
    "    #add leading zeros to COUNTYFIPS so that the total number of digits is three\n",
    "    df3['COUNTYFIPS'] = df3['COUNTYFIPS'].apply(lambda x: x.zfill(3))\n",
    "    #add leading zeros to STATEFIP so that the total number of digits is two\n",
    "    df3['STATEFIP'] = df3['STATEFIP'].apply(lambda x: x.zfill(2))\n",
    "    #combine STATEFIP and COUNTYFIPS in one colummn\n",
    "    df3[\"ID\"] = df3[\"STATEFIP\"] + df3[\"COUNTYFIPS\"]\n",
    "    #change the index to the new variable ID\n",
    "    df3.set_index('ID', inplace=True)\n",
    "    #save the data in separate files\n",
    "    df3.to_csv('IPUMSclean_' + filename + '.csv')"
   ]
  },
  {
   "cell_type": "markdown",
   "metadata": {},
   "source": [
    "### Data from American Community Survey (ACS)"
   ]
  },
  {
   "cell_type": "markdown",
   "metadata": {},
   "source": [
    "## Merging datasets from IPUMS and ACS"
   ]
  }
 ],
 "metadata": {
  "kernelspec": {
   "display_name": "Python 3",
   "language": "python",
   "name": "python3"
  },
  "language_info": {
   "codemirror_mode": {
    "name": "ipython",
    "version": 3
   },
   "file_extension": ".py",
   "mimetype": "text/x-python",
   "name": "python",
   "nbconvert_exporter": "python",
   "pygments_lexer": "ipython3",
   "version": "3.6.1"
  }
 },
 "nbformat": 4,
 "nbformat_minor": 2
}
