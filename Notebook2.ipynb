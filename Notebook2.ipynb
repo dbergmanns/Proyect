{
 "cells": [
  {
   "cell_type": "markdown",
   "metadata": {
    "collapsed": true
   },
   "source": [
    "# <font color=blue>Immigration and Employment</font>"
   ]
  },
  {
   "cell_type": "code",
   "execution_count": 2,
   "metadata": {
    "collapsed": true
   },
   "outputs": [],
   "source": [
    "import pandas as pd\n",
    "import numpy as np\n",
    "from scipy.stats import pearsonr, linregress\n",
    "import matplotlib.pyplot as plt\n",
    "%matplotlib inline\n",
    "import statsmodels.formula.api as smf\n",
    "import sqlite3\n",
    "import glob\n",
    "import seaborn as sns\n",
    "sns.set_style(\"whitegrid\", rc={'axes.linewidth': 2.5})\n",
    "sns.set_context('notebook', font_scale=1.45, rc={\"lines.linewidth\": 3, \"figure.figsize\" : (7, 3)})"
   ]
  },
  {
   "cell_type": "markdown",
   "metadata": {
    "collapsed": true
   },
   "source": [
    "## Cleaning the data"
   ]
  },
  {
   "cell_type": "markdown",
   "metadata": {},
   "source": [
    "### Data from Integrated Public Use Microdata Series (IPUMS)"
   ]
  },
  {
   "cell_type": "markdown",
   "metadata": {
    "collapsed": true
   },
   "source": [
    "We downloaded data from 2007 to 2016 in five different files (each with two years) as the files are too large. We selected the following variables: age (AGE), sex (SEX), migration status (MIGRATE1), citizenship (CITIZEN), hispanic status (HISPANIC), state (STATEFIP), county (COUNTYFIPS), and weight of population (PERWT)"
   ]
  },
  {
   "cell_type": "markdown",
   "metadata": {},
   "source": [
    "To clean the five files we used a loop as the variables are the same for all files:"
   ]
  },
  {
   "cell_type": "code",
   "execution_count": 3,
   "metadata": {},
   "outputs": [
    {
     "ename": "IndentationError",
     "evalue": "unexpected indent (<ipython-input-3-5c6dabfef5f5>, line 23)",
     "output_type": "error",
     "traceback": [
      "\u001b[0;36m  File \u001b[0;32m\"<ipython-input-3-5c6dabfef5f5>\"\u001b[0;36m, line \u001b[0;32m23\u001b[0m\n\u001b[0;31m    .agg({'AGE': 'mean', 'SEX2': 'mean', 'HISPAN2': 'mean', 'MIGRATE1': 'count', 'PERWT': 'sum'}).reset_index()\u001b[0m\n\u001b[0m    ^\u001b[0m\n\u001b[0;31mIndentationError\u001b[0m\u001b[0;31m:\u001b[0m unexpected indent\n"
     ]
    }
   ],
   "source": [
    "files=[\"2007\", \"2009\", \"2011\", \"2013\", \"2015\"]\n",
    "for filename in files:    \n",
    "    df = pd.read_csv(\"IPUMS\"+ filename + '.csv', \n",
    "                     usecols=[\"YEAR\", \"STATEFIP\", \"COUNTYFIPS\", \"PERWT\", \"SEX\", \"AGE\", \"HISPAN\", \"CITIZEN\", \"MIGRATE1\"])\n",
    "    #select persons that are not US citizens and that 1 year ago were living abroad\n",
    "    #select only US states, do not consider Puerto Rico, Alaska, Virgin Islands, Hawaii\n",
    "    #do not consider counties whose code is zero\n",
    "    #do not consider persons that did not respond about their race (HISPAN=9)\n",
    "    df2 = df[(df.CITIZEN == 3) & (df.MIGRATE1 == 4) & (df.HISPAN != 9) & (df.STATEFIP != 2) & (df.STATEFIP != 3)\n",
    "                        & (df.STATEFIP != 7) & (df.STATEFIP != 14) & (df.STATEFIP != 15) & (df.STATEFIP != 43) \n",
    "                        & (df.STATEFIP != 52) & (df.COUNTYFIPS > 0)]\n",
    "    #rename variables so it is easier to calculate proportions\n",
    "    #the code for persons that are hispanic is set to zero\n",
    "    df2[\"HISPAN2\"] = 0\n",
    "    #the code for persons that are not hispanic (0) is set to one\n",
    "    df2.loc[df2[\"HISPAN\"] == 0,  \"HISPAN2\"] = 1\n",
    "    #the code for males is set to zero and the code for females (2) is set to one\n",
    "    df2[\"SEX2\"] = 0\n",
    "    df2.loc[df2[\"SEX\"] == 2,  \"SEX2\"] = 1\n",
    "    #group by county, state, and year\n",
    "    #calculate the mean of age, sex, and hispanic people (proportion), the number of migrants, and the sum of the weights (perwt)\n",
    "    df3 = df2.groupby([\"COUNTYFIPS\", \"STATEFIP\", \"YEAR\"])\n",
    "                    .agg({'AGE': 'mean', 'SEX2': 'mean', 'HISPAN2': 'mean', 'MIGRATE1': 'count', 'PERWT': 'sum'}).reset_index()\n",
    "    #convert COUNTYFIPS to string\n",
    "    df3.COUNTYFIPS = df3.COUNTYFIPS.astype(str)\n",
    "    #convert STATEFIP to string\n",
    "    df3.STATEFIP = df3.STATEFIP.astype(str)\n",
    "    #add leading zeros to COUNTYFIPS so that the total number of digits is three\n",
    "    df3['COUNTYFIPS'] = df3['COUNTYFIPS'].apply(lambda x: x.zfill(3))\n",
    "    #add leading zeros to STATEFIP so that the total number of digits is two\n",
    "    df3['STATEFIP'] = df3['STATEFIP'].apply(lambda x: x.zfill(2))\n",
    "    #combine STATEFIP and COUNTYFIPS in one colummn\n",
    "    df3[\"ID\"] = df3[\"STATEFIP\"] + df3[\"COUNTYFIPS\"]\n",
    "    #change the index to the new variable ID\n",
    "    df3.set_index('ID', inplace=True)\n",
    "    #save the data in separate files\n",
    "    df3.to_csv('IPUMSclean' + filename + '.csv')"
   ]
  },
  {
   "cell_type": "markdown",
   "metadata": {},
   "source": [
    "We also used a loop to merge the five files into one single file that contains data from IPUMS (2007-2016)"
   ]
  },
  {
   "cell_type": "code",
   "execution_count": 29,
   "metadata": {
    "collapsed": true
   },
   "outputs": [],
   "source": [
    "df_allyears = pd.DataFrame()\n",
    "df_allyears = pd.read_csv(\"IPUMSclean2007.csv\", index_col=None, header=0)\n",
    "df_allyears[\"Year_merge\"] = 2007\n",
    "\n",
    "for num in (2009,2011,2013,2015):\n",
    "    filename = \"IPUMSclean\" + str(num) + \".csv\"\n",
    "    df_oneyear = pd.read_csv(filename, index_col=None, header=0)\n",
    "    df_oneyear[\"Year_merge\"] = num\n",
    "    frames = [df_allyears, df_oneyear]\n",
    "    df_allyears = pd.concat(frames)\n",
    "df_allyears\n",
    "df_allyears.to_csv('IPUMS_allyears.csv')"
   ]
  },
  {
   "cell_type": "code",
   "execution_count": null,
   "metadata": {
    "collapsed": true
   },
   "outputs": [],
   "source": []
  },
  {
   "cell_type": "markdown",
   "metadata": {
    "collapsed": true
   },
   "source": [
    "This file is already cleaned and ready to be merged with the dataset of the American Community Survey."
   ]
  },
  {
   "cell_type": "markdown",
   "metadata": {},
   "source": [
    "### Data from American Community Survey (ACS)"
   ]
  },
  {
   "cell_type": "markdown",
   "metadata": {},
   "source": [
    "From the ACS, we downloaded the available data from 2007 to 2016 in one CSV file for each year (10 in total). From each file we selected the following variables: FIPS county number (ID), total population estimate (population), Labor force participation rate (Labor Part), employment rate (Employment), and unemployment rate (Unemployment)"
   ]
  },
  {
   "cell_type": "markdown",
   "metadata": {},
   "source": [
    "In order to clean each CSV, we ran a loop through all the csv files where we selected the variables that we needed and created a clean csv file for each one"
   ]
  },
  {
   "cell_type": "code",
   "execution_count": 5,
   "metadata": {
    "collapsed": true
   },
   "outputs": [],
   "source": [
    "files=[\"2007\", \"2008\", \"2009\", \"2009\", \"2010\", \"2011\", \"2012\", \"2013\", \"2014\", \"2015\", \"2016\"]\n",
    "for filename in files:    \n",
    "    ACS = pd.read_csv(\"ACS_\"+filename+ \".csv\", \n",
    "                      usecols=[\"GEO.id2\", \"HC01_EST_VC01\", \"HC02_EST_VC01\", \"HC03_EST_VC01\", \"HC04_EST_VC01\"], \n",
    "                      skiprows=[1])\n",
    "    ACS = ACS.rename(columns={'GEO.id2': 'ID', 'HC01_EST_VC01': 'Population', 'HC02_EST_VC01': 'Labor Part.',\n",
    "                              'HC03_EST_VC01': 'Employment', 'HC04_EST_VC01': 'Unemployment'})\n",
    "    ACS.set_index('ID', inplace=True)                  \n",
    "    ACS.to_csv('ACSclean' + filename + '.csv')"
   ]
  },
  {
   "cell_type": "markdown",
   "metadata": {},
   "source": [
    "Once we had the clean csv files for each year we created a for loop to make one single csv file that has all the years"
   ]
  },
  {
   "cell_type": "code",
   "execution_count": 18,
   "metadata": {
    "collapsed": true
   },
   "outputs": [],
   "source": [
    "df_allyears = pd.DataFrame()\n",
    "df_allyears = pd.read_csv(\"ACSclean2007.csv\", index_col=None, header=0)\n",
    "df_allyears[\"YEAR\"] = 2007\n",
    "\n",
    "for num in range (2008,2017):\n",
    "    filename = \"ACSclean\" + str(num) + \".csv\"\n",
    "    df_oneyear = pd.read_csv(filename, index_col=None, header=0)\n",
    "    df_oneyear[\"YEAR\"] = num\n",
    "    frames = [df_allyears, df_oneyear]\n",
    "    df_allyears = pd.concat(frames)\n",
    "df_allyears\n",
    "df_allyears.to_csv('ACS_allyears.csv')"
   ]
  },
  {
   "cell_type": "markdown",
   "metadata": {},
   "source": [
    "## Merging datasets from IPUMS and ACS"
   ]
  },
  {
   "cell_type": "markdown",
   "metadata": {},
   "source": [
    "To merge the dataset we used the column ID as index and the code for \"outer\" since we are just keeping the values that are common to both datasets."
   ]
  },
  {
   "cell_type": "code",
   "execution_count": 31,
   "metadata": {},
   "outputs": [],
   "source": [
    "df_ACS = pd.read_csv(\"ACS_allyears.csv\")\n",
    "df_IPUMS = pd.read_csv(\"IPUMS_allyears.csv\")"
   ]
  },
  {
   "cell_type": "code",
   "execution_count": 52,
   "metadata": {},
   "outputs": [
    {
     "data": {
      "text/html": [
       "<div>\n",
       "<style>\n",
       "    .dataframe thead tr:only-child th {\n",
       "        text-align: right;\n",
       "    }\n",
       "\n",
       "    .dataframe thead th {\n",
       "        text-align: left;\n",
       "    }\n",
       "\n",
       "    .dataframe tbody tr th {\n",
       "        vertical-align: top;\n",
       "    }\n",
       "</style>\n",
       "<table border=\"1\" class=\"dataframe\">\n",
       "  <thead>\n",
       "    <tr style=\"text-align: right;\">\n",
       "      <th></th>\n",
       "      <th>Unnamed: 0_x</th>\n",
       "      <th>ID</th>\n",
       "      <th>Population</th>\n",
       "      <th>Labor Part.</th>\n",
       "      <th>Employment</th>\n",
       "      <th>Unemployment</th>\n",
       "      <th>YEAR</th>\n",
       "      <th>Unnamed: 0_y</th>\n",
       "      <th>COUNTYFIPS</th>\n",
       "      <th>STATEFIP</th>\n",
       "      <th>AGE</th>\n",
       "      <th>SEX2</th>\n",
       "      <th>HISPAN2</th>\n",
       "      <th>MIGRATE1</th>\n",
       "      <th>PERWT</th>\n",
       "      <th>Year_merge</th>\n",
       "    </tr>\n",
       "  </thead>\n",
       "  <tbody>\n",
       "    <tr>\n",
       "      <th>0</th>\n",
       "      <td>0</td>\n",
       "      <td>1003</td>\n",
       "      <td>135873</td>\n",
       "      <td>61.0</td>\n",
       "      <td>58.9</td>\n",
       "      <td>3.2</td>\n",
       "      <td>2007</td>\n",
       "      <td>20</td>\n",
       "      <td>3</td>\n",
       "      <td>1</td>\n",
       "      <td>22.000000</td>\n",
       "      <td>0.400000</td>\n",
       "      <td>0.900000</td>\n",
       "      <td>10</td>\n",
       "      <td>2378</td>\n",
       "      <td>2007</td>\n",
       "    </tr>\n",
       "    <tr>\n",
       "      <th>1</th>\n",
       "      <td>7</td>\n",
       "      <td>1073</td>\n",
       "      <td>520153</td>\n",
       "      <td>62.6</td>\n",
       "      <td>58.0</td>\n",
       "      <td>7.2</td>\n",
       "      <td>2007</td>\n",
       "      <td>348</td>\n",
       "      <td>73</td>\n",
       "      <td>1</td>\n",
       "      <td>30.666667</td>\n",
       "      <td>0.666667</td>\n",
       "      <td>1.000000</td>\n",
       "      <td>3</td>\n",
       "      <td>899</td>\n",
       "      <td>2007</td>\n",
       "    </tr>\n",
       "    <tr>\n",
       "      <th>2</th>\n",
       "      <td>9</td>\n",
       "      <td>1081</td>\n",
       "      <td>104436</td>\n",
       "      <td>62.6</td>\n",
       "      <td>58.9</td>\n",
       "      <td>4.8</td>\n",
       "      <td>2007</td>\n",
       "      <td>363</td>\n",
       "      <td>81</td>\n",
       "      <td>1</td>\n",
       "      <td>37.857143</td>\n",
       "      <td>0.285714</td>\n",
       "      <td>0.571429</td>\n",
       "      <td>7</td>\n",
       "      <td>479</td>\n",
       "      <td>2007</td>\n",
       "    </tr>\n",
       "    <tr>\n",
       "      <th>3</th>\n",
       "      <td>13</td>\n",
       "      <td>1097</td>\n",
       "      <td>310354</td>\n",
       "      <td>59.7</td>\n",
       "      <td>55.2</td>\n",
       "      <td>7.1</td>\n",
       "      <td>2007</td>\n",
       "      <td>432</td>\n",
       "      <td>97</td>\n",
       "      <td>1</td>\n",
       "      <td>31.500000</td>\n",
       "      <td>0.100000</td>\n",
       "      <td>0.400000</td>\n",
       "      <td>10</td>\n",
       "      <td>1416</td>\n",
       "      <td>2007</td>\n",
       "    </tr>\n",
       "    <tr>\n",
       "      <th>4</th>\n",
       "      <td>17</td>\n",
       "      <td>1117</td>\n",
       "      <td>138992</td>\n",
       "      <td>70.1</td>\n",
       "      <td>66.9</td>\n",
       "      <td>4.4</td>\n",
       "      <td>2007</td>\n",
       "      <td>497</td>\n",
       "      <td>117</td>\n",
       "      <td>1</td>\n",
       "      <td>26.666667</td>\n",
       "      <td>1.000000</td>\n",
       "      <td>1.000000</td>\n",
       "      <td>3</td>\n",
       "      <td>426</td>\n",
       "      <td>2007</td>\n",
       "    </tr>\n",
       "  </tbody>\n",
       "</table>\n",
       "</div>"
      ],
      "text/plain": [
       "   Unnamed: 0_x    ID Population Labor Part. Employment Unemployment  YEAR  \\\n",
       "0             0  1003     135873        61.0       58.9          3.2  2007   \n",
       "1             7  1073     520153        62.6       58.0          7.2  2007   \n",
       "2             9  1081     104436        62.6       58.9          4.8  2007   \n",
       "3            13  1097     310354        59.7       55.2          7.1  2007   \n",
       "4            17  1117     138992        70.1       66.9          4.4  2007   \n",
       "\n",
       "   Unnamed: 0_y  COUNTYFIPS  STATEFIP        AGE      SEX2   HISPAN2  \\\n",
       "0            20           3         1  22.000000  0.400000  0.900000   \n",
       "1           348          73         1  30.666667  0.666667  1.000000   \n",
       "2           363          81         1  37.857143  0.285714  0.571429   \n",
       "3           432          97         1  31.500000  0.100000  0.400000   \n",
       "4           497         117         1  26.666667  1.000000  1.000000   \n",
       "\n",
       "   MIGRATE1  PERWT  Year_merge  \n",
       "0        10   2378        2007  \n",
       "1         3    899        2007  \n",
       "2         7    479        2007  \n",
       "3        10   1416        2007  \n",
       "4         3    426        2007  "
      ]
     },
     "execution_count": 52,
     "metadata": {},
     "output_type": "execute_result"
    }
   ],
   "source": [
    "df_merged = df_ACS.merge(df_IPUMS, on = ['ID','YEAR'], how='inner')\n",
    "df_merged.head()"
   ]
  },
  {
   "cell_type": "markdown",
   "metadata": {},
   "source": [
    "We eliminate columns that we will not use."
   ]
  },
  {
   "cell_type": "code",
   "execution_count": 53,
   "metadata": {},
   "outputs": [
    {
     "data": {
      "text/html": [
       "<div>\n",
       "<style>\n",
       "    .dataframe thead tr:only-child th {\n",
       "        text-align: right;\n",
       "    }\n",
       "\n",
       "    .dataframe thead th {\n",
       "        text-align: left;\n",
       "    }\n",
       "\n",
       "    .dataframe tbody tr th {\n",
       "        vertical-align: top;\n",
       "    }\n",
       "</style>\n",
       "<table border=\"1\" class=\"dataframe\">\n",
       "  <thead>\n",
       "    <tr style=\"text-align: right;\">\n",
       "      <th></th>\n",
       "      <th>ID</th>\n",
       "      <th>Population</th>\n",
       "      <th>Labor Part.</th>\n",
       "      <th>Employment</th>\n",
       "      <th>Unemployment</th>\n",
       "      <th>YEAR</th>\n",
       "      <th>AGE</th>\n",
       "      <th>SEX2</th>\n",
       "      <th>HISPAN2</th>\n",
       "      <th>MIGRATE1</th>\n",
       "      <th>PERWT</th>\n",
       "    </tr>\n",
       "  </thead>\n",
       "  <tbody>\n",
       "    <tr>\n",
       "      <th>0</th>\n",
       "      <td>1003</td>\n",
       "      <td>135873</td>\n",
       "      <td>61.0</td>\n",
       "      <td>58.9</td>\n",
       "      <td>3.2</td>\n",
       "      <td>2007</td>\n",
       "      <td>22.000000</td>\n",
       "      <td>0.400000</td>\n",
       "      <td>0.900000</td>\n",
       "      <td>10</td>\n",
       "      <td>2378</td>\n",
       "    </tr>\n",
       "    <tr>\n",
       "      <th>1</th>\n",
       "      <td>1073</td>\n",
       "      <td>520153</td>\n",
       "      <td>62.6</td>\n",
       "      <td>58.0</td>\n",
       "      <td>7.2</td>\n",
       "      <td>2007</td>\n",
       "      <td>30.666667</td>\n",
       "      <td>0.666667</td>\n",
       "      <td>1.000000</td>\n",
       "      <td>3</td>\n",
       "      <td>899</td>\n",
       "    </tr>\n",
       "    <tr>\n",
       "      <th>2</th>\n",
       "      <td>1081</td>\n",
       "      <td>104436</td>\n",
       "      <td>62.6</td>\n",
       "      <td>58.9</td>\n",
       "      <td>4.8</td>\n",
       "      <td>2007</td>\n",
       "      <td>37.857143</td>\n",
       "      <td>0.285714</td>\n",
       "      <td>0.571429</td>\n",
       "      <td>7</td>\n",
       "      <td>479</td>\n",
       "    </tr>\n",
       "    <tr>\n",
       "      <th>3</th>\n",
       "      <td>1097</td>\n",
       "      <td>310354</td>\n",
       "      <td>59.7</td>\n",
       "      <td>55.2</td>\n",
       "      <td>7.1</td>\n",
       "      <td>2007</td>\n",
       "      <td>31.500000</td>\n",
       "      <td>0.100000</td>\n",
       "      <td>0.400000</td>\n",
       "      <td>10</td>\n",
       "      <td>1416</td>\n",
       "    </tr>\n",
       "    <tr>\n",
       "      <th>4</th>\n",
       "      <td>1117</td>\n",
       "      <td>138992</td>\n",
       "      <td>70.1</td>\n",
       "      <td>66.9</td>\n",
       "      <td>4.4</td>\n",
       "      <td>2007</td>\n",
       "      <td>26.666667</td>\n",
       "      <td>1.000000</td>\n",
       "      <td>1.000000</td>\n",
       "      <td>3</td>\n",
       "      <td>426</td>\n",
       "    </tr>\n",
       "  </tbody>\n",
       "</table>\n",
       "</div>"
      ],
      "text/plain": [
       "     ID Population Labor Part. Employment Unemployment  YEAR        AGE  \\\n",
       "0  1003     135873        61.0       58.9          3.2  2007  22.000000   \n",
       "1  1073     520153        62.6       58.0          7.2  2007  30.666667   \n",
       "2  1081     104436        62.6       58.9          4.8  2007  37.857143   \n",
       "3  1097     310354        59.7       55.2          7.1  2007  31.500000   \n",
       "4  1117     138992        70.1       66.9          4.4  2007  26.666667   \n",
       "\n",
       "       SEX2   HISPAN2  MIGRATE1  PERWT  \n",
       "0  0.400000  0.900000        10   2378  \n",
       "1  0.666667  1.000000         3    899  \n",
       "2  0.285714  0.571429         7    479  \n",
       "3  0.100000  0.400000        10   1416  \n",
       "4  1.000000  1.000000         3    426  "
      ]
     },
     "execution_count": 53,
     "metadata": {},
     "output_type": "execute_result"
    }
   ],
   "source": [
    "df_merged.drop(df_merged.columns[[0, 7, 8, \n",
    "    9, 15]], axis=1, inplace=True)\n",
    "df_merged.head()"
   ]
  },
  {
   "cell_type": "code",
   "execution_count": 54,
   "metadata": {
    "collapsed": true
   },
   "outputs": [],
   "source": [
    "df_merged.to_csv('ACSIPUMS_merged.csv')"
   ]
  },
  {
   "cell_type": "code",
   "execution_count": null,
   "metadata": {
    "collapsed": true
   },
   "outputs": [],
   "source": []
  }
 ],
 "metadata": {
  "kernelspec": {
   "display_name": "Python 3",
   "language": "python",
   "name": "python3"
  },
  "language_info": {
   "codemirror_mode": {
    "name": "ipython",
    "version": 3
   },
   "file_extension": ".py",
   "mimetype": "text/x-python",
   "name": "python",
   "nbconvert_exporter": "python",
   "pygments_lexer": "ipython3",
   "version": "3.6.3"
  }
 },
 "nbformat": 4,
 "nbformat_minor": 2
}
